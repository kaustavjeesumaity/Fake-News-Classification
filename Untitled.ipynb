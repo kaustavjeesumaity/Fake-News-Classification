{
 "cells": [
  {
   "cell_type": "code",
   "execution_count": 1,
   "id": "7f1dd185",
   "metadata": {},
   "outputs": [],
   "source": [
    "import numpy as np\n",
    "import pandas as pd"
   ]
  },
  {
   "cell_type": "code",
   "execution_count": 2,
   "id": "889af39e",
   "metadata": {},
   "outputs": [],
   "source": [
    "true = pd.read_csv('True.csv')\n",
    "fake = pd.read_csv('Fake.csv')\n"
   ]
  },
  {
   "cell_type": "code",
   "execution_count": 3,
   "id": "689fb929",
   "metadata": {},
   "outputs": [],
   "source": [
    "true['label'] = 0\n",
    "fake['label'] = 1"
   ]
  },
  {
   "cell_type": "code",
   "execution_count": 4,
   "id": "de369dd4",
   "metadata": {},
   "outputs": [],
   "source": [
    "df = pd.concat([true,fake]).reset_index().drop('index',axis=1)"
   ]
  },
  {
   "cell_type": "code",
   "execution_count": 5,
   "id": "99c4e636",
   "metadata": {},
   "outputs": [
    {
     "data": {
      "text/html": [
       "<div>\n",
       "<style scoped>\n",
       "    .dataframe tbody tr th:only-of-type {\n",
       "        vertical-align: middle;\n",
       "    }\n",
       "\n",
       "    .dataframe tbody tr th {\n",
       "        vertical-align: top;\n",
       "    }\n",
       "\n",
       "    .dataframe thead th {\n",
       "        text-align: right;\n",
       "    }\n",
       "</style>\n",
       "<table border=\"1\" class=\"dataframe\">\n",
       "  <thead>\n",
       "    <tr style=\"text-align: right;\">\n",
       "      <th></th>\n",
       "      <th>title</th>\n",
       "      <th>text</th>\n",
       "      <th>subject</th>\n",
       "      <th>date</th>\n",
       "      <th>label</th>\n",
       "    </tr>\n",
       "  </thead>\n",
       "  <tbody>\n",
       "    <tr>\n",
       "      <th>0</th>\n",
       "      <td>As U.S. budget fight looms, Republicans flip t...</td>\n",
       "      <td>WASHINGTON (Reuters) - The head of a conservat...</td>\n",
       "      <td>politicsNews</td>\n",
       "      <td>December 31, 2017</td>\n",
       "      <td>0</td>\n",
       "    </tr>\n",
       "    <tr>\n",
       "      <th>1</th>\n",
       "      <td>U.S. military to accept transgender recruits o...</td>\n",
       "      <td>WASHINGTON (Reuters) - Transgender people will...</td>\n",
       "      <td>politicsNews</td>\n",
       "      <td>December 29, 2017</td>\n",
       "      <td>0</td>\n",
       "    </tr>\n",
       "    <tr>\n",
       "      <th>2</th>\n",
       "      <td>Senior U.S. Republican senator: 'Let Mr. Muell...</td>\n",
       "      <td>WASHINGTON (Reuters) - The special counsel inv...</td>\n",
       "      <td>politicsNews</td>\n",
       "      <td>December 31, 2017</td>\n",
       "      <td>0</td>\n",
       "    </tr>\n",
       "    <tr>\n",
       "      <th>3</th>\n",
       "      <td>FBI Russia probe helped by Australian diplomat...</td>\n",
       "      <td>WASHINGTON (Reuters) - Trump campaign adviser ...</td>\n",
       "      <td>politicsNews</td>\n",
       "      <td>December 30, 2017</td>\n",
       "      <td>0</td>\n",
       "    </tr>\n",
       "    <tr>\n",
       "      <th>4</th>\n",
       "      <td>Trump wants Postal Service to charge 'much mor...</td>\n",
       "      <td>SEATTLE/WASHINGTON (Reuters) - President Donal...</td>\n",
       "      <td>politicsNews</td>\n",
       "      <td>December 29, 2017</td>\n",
       "      <td>0</td>\n",
       "    </tr>\n",
       "  </tbody>\n",
       "</table>\n",
       "</div>"
      ],
      "text/plain": [
       "                                               title  \\\n",
       "0  As U.S. budget fight looms, Republicans flip t...   \n",
       "1  U.S. military to accept transgender recruits o...   \n",
       "2  Senior U.S. Republican senator: 'Let Mr. Muell...   \n",
       "3  FBI Russia probe helped by Australian diplomat...   \n",
       "4  Trump wants Postal Service to charge 'much mor...   \n",
       "\n",
       "                                                text       subject  \\\n",
       "0  WASHINGTON (Reuters) - The head of a conservat...  politicsNews   \n",
       "1  WASHINGTON (Reuters) - Transgender people will...  politicsNews   \n",
       "2  WASHINGTON (Reuters) - The special counsel inv...  politicsNews   \n",
       "3  WASHINGTON (Reuters) - Trump campaign adviser ...  politicsNews   \n",
       "4  SEATTLE/WASHINGTON (Reuters) - President Donal...  politicsNews   \n",
       "\n",
       "                 date  label  \n",
       "0  December 31, 2017       0  \n",
       "1  December 29, 2017       0  \n",
       "2  December 31, 2017       0  \n",
       "3  December 30, 2017       0  \n",
       "4  December 29, 2017       0  "
      ]
     },
     "execution_count": 5,
     "metadata": {},
     "output_type": "execute_result"
    }
   ],
   "source": [
    "df.head()"
   ]
  },
  {
   "cell_type": "code",
   "execution_count": 6,
   "id": "caeb9fec",
   "metadata": {},
   "outputs": [],
   "source": [
    "def text_preprocessing(text):\n",
    "    import string\n",
    "    from nltk.tokenize import word_tokenize\n",
    "    from nltk.stem import PorterStemmer\n",
    "    from nltk.corpus import stopwords\n",
    "    \n",
    "    text = text.lower()\n",
    "    \n",
    "    for punc in string.punctuation:\n",
    "        text = text.replace(punc,'')\n",
    "        \n",
    "    text_words = word_tokenize(text)\n",
    "    \n",
    "#     filtered_words = [word for word in text_words if word not in stopwords.words('english')]\n",
    "    \n",
    "#     ps = PorterStemmer()\n",
    "    \n",
    "#     final_text = ' '.join([ps.stem(word) for word in filtered_words])\n",
    "    \n",
    "    return ' '.join(text_words)\n",
    "    \n",
    "    "
   ]
  },
  {
   "cell_type": "code",
   "execution_count": 7,
   "id": "be0db5cd",
   "metadata": {
    "scrolled": false
   },
   "outputs": [],
   "source": [
    "import tensorflow_hub as hub\n",
    "embed = hub.load('https://tfhub.dev/google/Wiki-words-250/2')\n",
    "\n",
    "def embedding(texts,embed):\n",
    "    from nltk.tokenize import word_tokenize\n",
    "    encoded_reviews = []\n",
    "    for text in texts:\n",
    "        text_list = text.split(' ')\n",
    "        embedded_text = embed(text_list)\n",
    "        encoded_reviews.append(embedded_text)\n",
    "    return encoded_reviews"
   ]
  },
  {
   "cell_type": "code",
   "execution_count": 8,
   "id": "1736b884",
   "metadata": {},
   "outputs": [],
   "source": [
    "from sklearn.model_selection import train_test_split\n",
    "X = df['title']\n",
    "y = df['label']\n",
    "X_train,X_test,y_train,y_test = train_test_split(X,y,test_size=0.2,stratify=y)"
   ]
  },
  {
   "cell_type": "code",
   "execution_count": 9,
   "id": "70b3b09c",
   "metadata": {
    "scrolled": false
   },
   "outputs": [],
   "source": [
    "X_train = (X_train.apply(text_preprocessing)).values\n",
    "X_train = embedding(X_train,embed)\n",
    "X_test = (X_test.apply(text_preprocessing)).values\n",
    "X_test = embedding(X_test,embed)\n",
    "y_train = y_train.values\n",
    "y_test = y_test.values"
   ]
  },
  {
   "cell_type": "code",
   "execution_count": 10,
   "id": "6997c245",
   "metadata": {},
   "outputs": [],
   "source": [
    "def padding_with_zeros(embedded_text,maxlen):\n",
    "    padded_text = []\n",
    "    for text in embedded_text:\n",
    "        if len(text)<maxlen:\n",
    "            new_text = np.concatenate([np.zeros([maxlen-len(text),250]),text])\n",
    "        else:\n",
    "            new_text = text[:maxlen]\n",
    "        padded_text.append(new_text)\n",
    "    return np.array(padded_text)\n",
    "    "
   ]
  },
  {
   "cell_type": "code",
   "execution_count": 11,
   "id": "308a850e",
   "metadata": {},
   "outputs": [],
   "source": [
    "X_train = padding_with_zeros(X_train,20)\n",
    "X_test = padding_with_zeros(X_test,20)"
   ]
  },
  {
   "cell_type": "code",
   "execution_count": 12,
   "id": "fe82f293",
   "metadata": {},
   "outputs": [],
   "source": [
    "import tensorflow as tf\n",
    "from tensorflow.keras.layers import Dense, LSTM\n",
    "from tensorflow.keras.models import Model\n",
    "from tensorflow.keras.models import Sequential\n",
    "\n",
    "model = Sequential()\n",
    "model.add(LSTM(100))\n",
    "model.add(Dense(1, activation='sigmoid'))\n",
    "model.compile(loss='binary_crossentropy',optimizer='adam',metrics=['accuracy'])"
   ]
  },
  {
   "cell_type": "code",
   "execution_count": 13,
   "id": "c9cbe383",
   "metadata": {},
   "outputs": [
    {
     "name": "stdout",
     "output_type": "stream",
     "text": [
      "Epoch 1/10\n",
      "562/562 [==============================] - 11s 10ms/step - loss: 0.2176 - accuracy: 0.9091 - val_loss: 0.1806 - val_accuracy: 0.9277\n",
      "Epoch 2/10\n",
      "562/562 [==============================] - 5s 9ms/step - loss: 0.1600 - accuracy: 0.9374 - val_loss: 0.1658 - val_accuracy: 0.9327\n",
      "Epoch 3/10\n",
      "562/562 [==============================] - 5s 8ms/step - loss: 0.1398 - accuracy: 0.9464 - val_loss: 0.1556 - val_accuracy: 0.9382\n",
      "Epoch 4/10\n",
      "562/562 [==============================] - 5s 8ms/step - loss: 0.1281 - accuracy: 0.9508 - val_loss: 0.1512 - val_accuracy: 0.9406\n",
      "Epoch 5/10\n",
      "562/562 [==============================] - 4s 8ms/step - loss: 0.1178 - accuracy: 0.9551 - val_loss: 0.1327 - val_accuracy: 0.9476\n",
      "Epoch 6/10\n",
      "562/562 [==============================] - 4s 7ms/step - loss: 0.1104 - accuracy: 0.9573 - val_loss: 0.1264 - val_accuracy: 0.9503\n",
      "Epoch 7/10\n",
      "562/562 [==============================] - 4s 8ms/step - loss: 0.1025 - accuracy: 0.9603 - val_loss: 0.1228 - val_accuracy: 0.9519\n",
      "Epoch 8/10\n",
      "562/562 [==============================] - 4s 7ms/step - loss: 0.0939 - accuracy: 0.9631 - val_loss: 0.1677 - val_accuracy: 0.9388\n",
      "Epoch 9/10\n",
      "562/562 [==============================] - 4s 8ms/step - loss: 0.0881 - accuracy: 0.9662 - val_loss: 0.1203 - val_accuracy: 0.9533\n",
      "Epoch 10/10\n",
      "562/562 [==============================] - 4s 7ms/step - loss: 0.0816 - accuracy: 0.9695 - val_loss: 0.1226 - val_accuracy: 0.9553\n"
     ]
    },
    {
     "data": {
      "text/plain": [
       "<keras.callbacks.History at 0x1e1ee7f63b0>"
      ]
     },
     "execution_count": 13,
     "metadata": {},
     "output_type": "execute_result"
    }
   ],
   "source": [
    "model.fit(X_train,y_train,validation_data=(X_test,y_test),epochs=10,batch_size=64)"
   ]
  },
  {
   "cell_type": "code",
   "execution_count": 14,
   "id": "5d7a9786",
   "metadata": {},
   "outputs": [
    {
     "name": "stdout",
     "output_type": "stream",
     "text": [
      "281/281 [==============================] - 1s 2ms/step\n"
     ]
    }
   ],
   "source": [
    "y_pred = (model.predict(X_test)>0.5).astype(int)"
   ]
  },
  {
   "cell_type": "code",
   "execution_count": 15,
   "id": "0bc58205",
   "metadata": {},
   "outputs": [
    {
     "data": {
      "text/plain": [
       "array([[4105,  179],\n",
       "       [ 222, 4474]], dtype=int64)"
      ]
     },
     "execution_count": 15,
     "metadata": {},
     "output_type": "execute_result"
    }
   ],
   "source": [
    "from sklearn.metrics import confusion_matrix\n",
    "confusion_matrix(y_test,y_pred)"
   ]
  },
  {
   "cell_type": "code",
   "execution_count": 1,
   "id": "0c7fc03a",
   "metadata": {},
   "outputs": [],
   "source": [
    "import pandas as pd\n",
    "\n",
    "fake = pd.read_csv('Fake.csv')"
   ]
  },
  {
   "cell_type": "code",
   "execution_count": 5,
   "id": "95405562",
   "metadata": {},
   "outputs": [
    {
     "data": {
      "text/plain": [
       "' Racist Alabama Cops Brutalize Black Boy While He Is In Handcuffs (GRAPHIC IMAGES)'"
      ]
     },
     "execution_count": 5,
     "metadata": {},
     "output_type": "execute_result"
    }
   ],
   "source": [
    "fake['title'][5]"
   ]
  },
  {
   "cell_type": "code",
   "execution_count": null,
   "id": "5d4ab8a2",
   "metadata": {},
   "outputs": [],
   "source": []
  }
 ],
 "metadata": {
  "kernelspec": {
   "display_name": "Python 3 (ipykernel)",
   "language": "python",
   "name": "python3"
  },
  "language_info": {
   "codemirror_mode": {
    "name": "ipython",
    "version": 3
   },
   "file_extension": ".py",
   "mimetype": "text/x-python",
   "name": "python",
   "nbconvert_exporter": "python",
   "pygments_lexer": "ipython3",
   "version": "3.10.4"
  }
 },
 "nbformat": 4,
 "nbformat_minor": 5
}
